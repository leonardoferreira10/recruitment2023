{
 "cells": [
  {
   "cell_type": "markdown",
   "metadata": {
    "pycharm": {
     "name": "#%% md\n"
    }
   },
   "source": [
    "# Module 1 - Implementing and training a neural network"
   ]
  },
  {
   "cell_type": "markdown",
   "metadata": {
    "pycharm": {
     "name": "#%% md\n"
    }
   },
   "source": [
    "## Environment verification\n",
    "Start by confirming you have PyTorch, TorchVision and TensorBoard installed.\n"
   ]
  },
  {
   "cell_type": "code",
   "execution_count": 1,
   "metadata": {
    "ExecuteTime": {
     "end_time": "2023-10-10T23:44:27.402507541Z",
     "start_time": "2023-10-10T23:44:24.157569130Z"
    },
    "pycharm": {
     "name": "#%%\n"
    }
   },
   "outputs": [],
   "source": [
    "import torch\n",
    "import torchvision\n",
    "from torch.utils.data import DataLoader"
   ]
  },
  {
   "cell_type": "markdown",
   "source": [
    "## QUESTIONS - General autonomous driving questions\n",
    "In this part, some general questions about autonomous driving, both general and specific to formula student, are presented. You should read the relevant parts of the rulebook and beginner's guide to answer some of the questions. Feel free to use the internet.\n",
    "\n",
    "1. List some pros and cons of using a stereo camera versus LiDAR versus RADAR for perception. You can research examples from the industry on why do they use specific sensors and not others.\n",
    "\n",
    "\n",
    "Sensors in Autonomous Vehicles: Choosing the Best Approach\n",
    "In autonomous vehicles, the use of various sensor systems is common for environment perception. The most popular sensors include LiDAR, radar, and cameras. These sensor systems work together to provide a comprehensive view of the external world, creating a safety network.\n",
    "\n",
    "LiDAR:\n",
    "\n",
    "Advantages:\n",
    "\n",
    "Distance Accuracy: LiDAR is highly accurate in measuring distances, crucial for collision avoidance.\n",
    "\n",
    "Light Independence: It works well in various lighting conditions, including complete darkness.\n",
    "\n",
    "Fast Scanning: It can quickly create 3D point clouds, enabling real-time perception.\n",
    "\n",
    "Disadvantages:\n",
    "\n",
    "High Cost: LiDAR sensors can be expensive, especially high-quality ones.\n",
    "\n",
    "Susceptible to Obstructions: Opaque objects can block the laser beam, causing blind spots.\n",
    "\n",
    "Less Color Information: It doesn't provide color information, limiting some applications.\n",
    "\n",
    "Cameras:\n",
    "\n",
    "Advantages:\n",
    "\n",
    "Low Cost: Cameras are relatively affordable compared to other options.\n",
    "\n",
    "High Resolution: They can capture detailed images, useful for obstacle detection and navigation.\n",
    "\n",
    "Color and Texture: Cameras capture color and texture information, beneficial for object recognition.\n",
    "\n",
    "Disadvantages:\n",
    "\n",
    "Lighting Condition Sensitivity: Performance can be limited in adverse lighting conditions, such as rain, snow, or intense sunlight.\n",
    "\n",
    "Complex Processing: Stereoscopic image processing can be computationally expensive and requires powerful hardware.\n",
    "\n",
    "Depth Challenge: Estimating depth accurately at long distances can be challenging.\n",
    "\n",
    "RADAR:\n",
    "\n",
    "Advantages:\n",
    "\n",
    "Works in All Weather Conditions: RADAR is robust and performs well in rain, snow, and fog.\n",
    "\n",
    "Long Range: It can detect objects at long distances, ideal for high-speed vehicle detection.\n",
    "\n",
    "Less Affected by Reflective Surfaces: RADAR is less sensitive to reflective surfaces than LiDAR.\n",
    "\n",
    "Disadvantages:\n",
    "\n",
    "Lower Spatial Resolution: Compared to cameras and LiDAR, RADAR has lower spatial resolution and doesn't provide detailed object shape information.\n",
    "\n",
    "Complex Interactions: Interpreting RADAR signals in scenarios with multiple objects can be complicated.\n",
    "\n",
    "Considerable Cost: RADAR sensors can still be expensive.\n",
    "Use Examples:\n",
    "\n",
    "Cameras:\n",
    "\n",
    "Tesla: Tesla uses cameras in advanced driver-assistance systems and its autopilot.\n",
    "\n",
    "Waymo: Waymo, a subsidiary of Alphabet and a leader in autonomous vehicles, combines cameras with other technologies.\n",
    "\n",
    "Mobileye: Intel's Mobileye provides advanced computer vision solutions and cameras for autonomous vehicles and driver-assistance systems.\n",
    "\n",
    "LiDAR:\n",
    "\n",
    "Velodyne Lidar: Velodyne is a leading LiDAR sensor manufacturer, supplying several automotive and autonomous technology companies.\n",
    "\n",
    "Luminar: Luminar focuses on developing LiDAR sensors and provides technology for autonomous vehicles.\n",
    "\n",
    "Aurora: Autonomous vehicle company Aurora uses LiDAR technology in its autonomous vehicles and transport systems.\n",
    "\n",
    "RADAR:\n",
    "\n",
    "Bosch: Bosch is one of the major manufacturers of RADAR sensors for the automotive industry, used in advanced driver-assistance systems.\n",
    "\n",
    "Continental: Continental provides automotive radar systems to various car manufacturers.\n",
    "\n",
    "Uber ATG (Advanced Technologies Group): Uber ATG used RADAR sensors in its autonomous vehicles before selling the autonomous vehicle division.\n",
    "\n",
    "In conclusion, the choice of the ideal sensor depends on the project's specific requirements, the available budget, and operational conditions. A common approach is to combine multiple sensors to create redundancy and maximize environmental perception. This strategy compensates for individual weaknesses and results in safer and more efficient autonomous vehicle systems.\n",
    "\n",
    "Extra Sensors:\n",
    "\n",
    "Ultrasonic:\n",
    "\n",
    "Advantages: Low cost, detection of obstacles at short distances, effective in parking maneuvers.\n",
    "\n",
    "Disadvantages: Limited range, does not provide color information, low resolution.\n",
    "\n",
    "Applications: Parking, detection of obstacles at short distances.\n",
    "\n",
    "Inertial Sensors (IMU):\n",
    "\n",
    "Advantages: Measures acceleration and rotation, useful for detecting changes in the vehicle's position and orientation.\n",
    "\n",
    "Disadvantages: Does not provide information about objects in the environment.\n",
    "\n",
    "Applications: Complement for navigation and control systems.\n",
    "\n",
    "Additional Video: https://www.youtube.com/watch?v=qbxx7dsVLkw&list=PLtuNXpGOPQ_aeLQNxB4rLzfb8uktPABU9&index=3\n",
    "\n",
    "\n",
    "2. Stereo cameras are capable of perceiving both color and depth for each pixel. These cameras can be bought plug-and-play solutions (for example Intel RealSense or StereoLabs ZED 2) or self-made using industrial cameras (for example Basler). Computing depth from multiple cameras requires processing, called \"depth estimation\", which is done onboard on the plug and play solutions. Which solution would you opt for if you had a small team with a short budget? Consider complexity, reliability and cost on your decision.\n",
    "\n",
    "If I had a small team with a limited budget, I would opt for plug-and-play solutions, such as Intel RealSense or StereoLabs Zed2, which already include depth estimation processing and offer better performance while consuming fewer resources. Although they may be slightly more expensive compared to industrial cameras, the reduction in development complexity and workload can offset this additional cost.\n",
    "\n",
    "\n",
    "3. In an autonomous car, monitorization and reaction to critical failures are essential to prevent uncontrolled behavior. According to the rulebook and the beginner's guide, what must happen if the car detects a camera and/or LiDAR malfunction? Select the correct option(s), mentioning the relevant rule(s) you found:\n",
    "    1. Play a sound using the TSAC.\n",
    "    2. Eject the processing computer.\n",
    "    3. Activate the EBS.\n",
    "    4. Send a text message to the officials notifying the issue.\n",
    "    5. Autonomously approach the ASR to perform a safe shutdown.\n",
    "\n",
    "Answer: 3\n",
    "\n",
    "4. Usually an autonomous driving pipeline is divided into perception, planning and control. Which algorithms are most commonly used by formula student teams on each of these stages? You can research other teams' social media or FSG Academy, for example.\n",
    "\n",
    "Perception: MLP, CNN, Image Processing Algorithms, RANSAC, EKF, AHRS\n",
    "\n",
    "Planning: Trajectory Planning Algorithms, SLAM\n",
    "\n",
    "Control: PID Controllers and Model-Based Control, EKF\n"
   ],
   "metadata": {
    "collapsed": false,
    "pycharm": {
     "name": "#%% md\n"
    }
   }
  },
  {
   "cell_type": "markdown",
   "source": [
    "## Dataset\n",
    "The used dataset is the well-known MNIST, which is composed of images of handwritten digits (0 to 9) with 28 pixels wide and 28 pixels high.\n",
    "\n",
    "The goals of most of the models using this dataset is to classify the digit of the image, which is our case.\n",
    "\n",
    "Download the training and validation dataset:"
   ],
   "metadata": {
    "collapsed": false,
    "pycharm": {
     "name": "#%% md\n"
    }
   }
  },
  {
   "cell_type": "code",
   "execution_count": 2,
   "outputs": [],
   "source": [
    "training_set: torch.utils.data.Dataset = torchvision.datasets.MNIST(\"./data\", train=True, download=True, transform=torchvision.transforms.ToTensor())\n",
    "validation_set: torch.utils.data.Dataset = torchvision.datasets.MNIST(\"./data\", train=False, download=True, transform=torchvision.transforms.ToTensor())"
   ],
   "metadata": {
    "collapsed": false,
    "ExecuteTime": {
     "end_time": "2023-10-10T23:44:27.539221844Z",
     "start_time": "2023-10-10T23:44:27.405299749Z"
    },
    "pycharm": {
     "name": "#%%\n"
    }
   }
  },
  {
   "cell_type": "markdown",
   "metadata": {
    "pycharm": {
     "name": "#%% md\n"
    }
   },
   "source": [
    "## Part 1 - MLP evaluation"
   ]
  },
  {
   "cell_type": "markdown",
   "metadata": {
    "pycharm": {
     "name": "#%% md\n"
    }
   },
   "source": [
    "Import the example MLP:"
   ]
  },
  {
   "cell_type": "code",
   "execution_count": 3,
   "metadata": {
    "ExecuteTime": {
     "end_time": "2023-10-10T23:44:27.553011701Z",
     "start_time": "2023-10-10T23:44:27.541645409Z"
    },
    "pycharm": {
     "name": "#%%\n"
    }
   },
   "outputs": [],
   "source": [
    "from bobnet import BobNet"
   ]
  },
  {
   "cell_type": "markdown",
   "source": [
    "Create an instance of this model:"
   ],
   "metadata": {
    "collapsed": false,
    "pycharm": {
     "name": "#%% md\n"
    }
   }
  },
  {
   "cell_type": "code",
   "execution_count": 4,
   "outputs": [],
   "source": [
    "model1 = BobNet()"
   ],
   "metadata": {
    "collapsed": false,
    "ExecuteTime": {
     "end_time": "2023-10-10T23:44:27.562292617Z",
     "start_time": "2023-10-10T23:44:27.549221563Z"
    },
    "pycharm": {
     "name": "#%%\n"
    }
   }
  },
  {
   "cell_type": "markdown",
   "source": [
    "Define the hyperparameters for this model:"
   ],
   "metadata": {
    "collapsed": false,
    "pycharm": {
     "name": "#%% md\n"
    }
   }
  },
  {
   "cell_type": "code",
   "execution_count": 5,
   "outputs": [],
   "source": [
    "# batch size\n",
    "MLP_BATCH_SIZE=64\n",
    "\n",
    "# learning rate\n",
    "MLP_LEARNING_RATE=0.001\n",
    "\n",
    "# momentum\n",
    "MLP_MOMENTUM=0.9\n",
    "\n",
    "# training epochs to run\n",
    "MLP_EPOCHS=10"
   ],
   "metadata": {
    "collapsed": false,
    "ExecuteTime": {
     "end_time": "2023-10-10T23:44:27.585806274Z",
     "start_time": "2023-10-10T23:44:27.563867031Z"
    },
    "pycharm": {
     "name": "#%%\n"
    }
   }
  },
  {
   "cell_type": "markdown",
   "source": [
    "Create the training and validation dataloaders from the datasets downloaded earlier:"
   ],
   "metadata": {
    "collapsed": false,
    "pycharm": {
     "name": "#%% md\n"
    }
   }
  },
  {
   "cell_type": "code",
   "execution_count": 6,
   "outputs": [],
   "source": [
    "# create the training loader\n",
    "mlp_training_loader = DataLoader(training_set, batch_size=MLP_BATCH_SIZE, shuffle=True) \n",
    "\n",
    "# create the validation loader\n",
    "mlp_validation_loader = DataLoader(validation_set, batch_size=MLP_BATCH_SIZE, shuffle=True)"
   ],
   "metadata": {
    "collapsed": false,
    "ExecuteTime": {
     "end_time": "2023-10-10T23:44:27.611913299Z",
     "start_time": "2023-10-10T23:44:27.609459143Z"
    },
    "pycharm": {
     "name": "#%%\n"
    }
   }
  },
  {
   "cell_type": "markdown",
   "source": [
    "Define the loss function and the optimizer:"
   ],
   "metadata": {
    "collapsed": false,
    "pycharm": {
     "name": "#%% md\n"
    }
   }
  },
  {
   "cell_type": "code",
   "execution_count": 7,
   "outputs": [],
   "source": [
    "mlp_loss_fn = torch.nn.CrossEntropyLoss()\n",
    "\n",
    "mlp_optimizer = torch.optim.SGD(model1.parameters(), lr=MLP_LEARNING_RATE, momentum=MLP_MOMENTUM)"
   ],
   "metadata": {
    "collapsed": false,
    "ExecuteTime": {
     "end_time": "2023-10-10T23:44:27.621901224Z",
     "start_time": "2023-10-10T23:44:27.609959279Z"
    },
    "pycharm": {
     "name": "#%%\n"
    }
   }
  },
  {
   "cell_type": "markdown",
   "source": [
    "Run the training and validation:"
   ],
   "metadata": {
    "collapsed": false,
    "pycharm": {
     "name": "#%% md\n"
    }
   }
  },
  {
   "cell_type": "code",
   "execution_count": 8,
   "outputs": [
    {
     "name": "stdout",
     "output_type": "stream",
     "text": [
      "Epoch 0 (99/938): training_loss = 2.3245200171615137\n",
      "Epoch 0 (199/938): training_loss = 2.311283769320004\n",
      "Epoch 0 (299/938): training_loss = 2.305858259615691\n",
      "Epoch 0 (399/938): training_loss = 2.302294490331396\n",
      "Epoch 0 (499/938): training_loss = 2.299294750293892\n",
      "Epoch 0 (599/938): training_loss = 2.2965236374850266\n",
      "Epoch 0 (699/938): training_loss = 2.2933952409310403\n",
      "Epoch 0 (799/938): training_loss = 2.289885958980708\n",
      "Epoch 0 (899/938): training_loss = 2.2856708424242504\n",
      "Epoch 0 (99/157): validation_loss = 2.2671988010406494\n",
      "Epoch 1 (99/938): training_loss = 2.26197505719734\n",
      "Epoch 1 (199/938): training_loss = 2.2442901170433465\n",
      "Epoch 1 (299/938): training_loss = 2.2346737416691607\n",
      "Epoch 1 (399/938): training_loss = 2.2259065722463123\n",
      "Epoch 1 (499/938): training_loss = 2.2172619264445945\n",
      "Epoch 1 (599/938): training_loss = 2.2076205944577123\n",
      "Epoch 1 (699/938): training_loss = 2.198016212051348\n",
      "Epoch 1 (799/938): training_loss = 2.1876891963323755\n",
      "Epoch 1 (899/938): training_loss = 2.17593173230185\n",
      "Epoch 1 (99/157): validation_loss = 2.0808637142181396\n",
      "Epoch 2 (99/938): training_loss = 2.0704191513735837\n",
      "Epoch 2 (199/938): training_loss = 2.0505464993529583\n",
      "Epoch 2 (299/938): training_loss = 2.0390464900728054\n",
      "Epoch 2 (399/938): training_loss = 2.0268387961805914\n",
      "Epoch 2 (499/938): training_loss = 2.0155224171812405\n",
      "Epoch 2 (599/938): training_loss = 2.006380773545904\n",
      "Epoch 2 (699/938): training_loss = 1.9971417115311083\n",
      "Epoch 2 (799/938): training_loss = 1.9875062123705658\n",
      "Epoch 2 (899/938): training_loss = 1.9784723265682895\n",
      "Epoch 2 (99/157): validation_loss = 1.9051865339279175\n",
      "Epoch 3 (99/938): training_loss = 1.90811482704047\n",
      "Epoch 3 (199/938): training_loss = 1.888194051819231\n",
      "Epoch 3 (299/938): training_loss = 1.8767835830765025\n",
      "Epoch 3 (399/938): training_loss = 1.867756210174178\n",
      "Epoch 3 (499/938): training_loss = 1.8586754858613252\n",
      "Epoch 3 (599/938): training_loss = 1.8511971348713157\n",
      "Epoch 3 (699/938): training_loss = 1.844559500998523\n",
      "Epoch 3 (799/938): training_loss = 1.8385816919937898\n",
      "Epoch 3 (899/938): training_loss = 1.8328342413875762\n",
      "Epoch 3 (99/157): validation_loss = 1.7912901639938354\n",
      "Epoch 4 (99/938): training_loss = 1.7944143613179524\n",
      "Epoch 4 (199/938): training_loss = 1.7821167054487832\n",
      "Epoch 4 (299/938): training_loss = 1.7755177108739133\n",
      "Epoch 4 (399/938): training_loss = 1.769422025608837\n",
      "Epoch 4 (499/938): training_loss = 1.763990268200815\n",
      "Epoch 4 (599/938): training_loss = 1.7608156771413075\n",
      "Epoch 4 (699/938): training_loss = 1.757743941867812\n",
      "Epoch 4 (799/938): training_loss = 1.7546312670236237\n",
      "Epoch 4 (899/938): training_loss = 1.751736832805417\n",
      "Epoch 4 (99/157): validation_loss = 1.736211895942688\n",
      "Epoch 5 (99/938): training_loss = 1.7410733290392943\n",
      "Epoch 5 (199/938): training_loss = 1.7293841329651263\n",
      "Epoch 5 (299/938): training_loss = 1.7268142708169179\n",
      "Epoch 5 (399/938): training_loss = 1.7249449464611541\n",
      "Epoch 5 (499/938): training_loss = 1.7236112396798295\n",
      "Epoch 5 (599/938): training_loss = 1.7207135594945917\n",
      "Epoch 5 (699/938): training_loss = 1.7175159302562775\n",
      "Epoch 5 (799/938): training_loss = 1.7156129930732547\n",
      "Epoch 5 (899/938): training_loss = 1.7142068984378565\n",
      "Epoch 5 (99/157): validation_loss = 1.7083162069320679\n",
      "Epoch 6 (99/938): training_loss = 1.7132205252695565\n",
      "Epoch 6 (199/938): training_loss = 1.7056125288632646\n",
      "Epoch 6 (299/938): training_loss = 1.7024836592052295\n",
      "Epoch 6 (399/938): training_loss = 1.6999551864494955\n",
      "Epoch 6 (499/938): training_loss = 1.6981512582851555\n",
      "Epoch 6 (599/938): training_loss = 1.6953828042258006\n",
      "Epoch 6 (699/938): training_loss = 1.694956932115623\n",
      "Epoch 6 (799/938): training_loss = 1.6942868619150155\n",
      "Epoch 6 (899/938): training_loss = 1.6926735745653825\n",
      "Epoch 6 (99/157): validation_loss = 1.6868290901184082\n",
      "Epoch 7 (99/938): training_loss = 1.6941675453475027\n",
      "Epoch 7 (199/938): training_loss = 1.6883116475301772\n",
      "Epoch 7 (299/938): training_loss = 1.6824227535605032\n",
      "Epoch 7 (399/938): training_loss = 1.6819587957888917\n",
      "Epoch 7 (499/938): training_loss = 1.6820628597645577\n",
      "Epoch 7 (599/938): training_loss = 1.6806623020235805\n",
      "Epoch 7 (699/938): training_loss = 1.6801525439656684\n",
      "Epoch 7 (799/938): training_loss = 1.6790969197233867\n",
      "Epoch 7 (899/938): training_loss = 1.678790590389154\n",
      "Epoch 7 (99/157): validation_loss = 1.683276653289795\n",
      "Epoch 8 (99/938): training_loss = 1.6877882516745366\n",
      "Epoch 8 (199/938): training_loss = 1.6777438356648737\n",
      "Epoch 8 (299/938): training_loss = 1.677047009850824\n",
      "Epoch 8 (399/938): training_loss = 1.6767744241202982\n",
      "Epoch 8 (499/938): training_loss = 1.674835226339902\n",
      "Epoch 8 (599/938): training_loss = 1.6727828905857067\n",
      "Epoch 8 (699/938): training_loss = 1.6712175089231718\n",
      "Epoch 8 (799/938): training_loss = 1.6707267106250767\n",
      "Epoch 8 (899/938): training_loss = 1.669775836857593\n",
      "Epoch 8 (99/157): validation_loss = 1.6745179891586304\n",
      "Epoch 9 (99/938): training_loss = 1.6805238434762666\n",
      "Epoch 9 (199/938): training_loss = 1.6723592311293636\n",
      "Epoch 9 (299/938): training_loss = 1.671375837613109\n",
      "Epoch 9 (399/938): training_loss = 1.6689541988205492\n",
      "Epoch 9 (499/938): training_loss = 1.6669466911193602\n",
      "Epoch 9 (599/938): training_loss = 1.6654577301022206\n",
      "Epoch 9 (699/938): training_loss = 1.6642707971714767\n",
      "Epoch 9 (799/938): training_loss = 1.6632378332605946\n",
      "Epoch 9 (899/938): training_loss = 1.6627936037019044\n",
      "Epoch 9 (99/157): validation_loss = 1.6681180000305176\n"
     ]
    },
    {
     "data": {
      "text/plain": "tensor(1.6508)"
     },
     "execution_count": 8,
     "metadata": {},
     "output_type": "execute_result"
    }
   ],
   "source": [
    "import utils\n",
    "\n",
    "# how many batches between logs\n",
    "LOGGING_INTERVAL=100\n",
    "\n",
    "utils.train_model(model1, MLP_EPOCHS, mlp_optimizer, mlp_loss_fn, mlp_training_loader, mlp_validation_loader, LOGGING_INTERVAL)"
   ],
   "metadata": {
    "collapsed": false,
    "ExecuteTime": {
     "end_time": "2023-10-10T23:44:28.278065836Z",
     "start_time": "2023-10-10T23:44:27.610358765Z"
    },
    "pycharm": {
     "name": "#%%\n"
    }
   }
  },
  {
   "cell_type": "markdown",
   "source": [
    "### QUESTIONS\n",
    "Explore the architecture on the script `mod1/bobnet.py`.\n",
    "1. Why does the input layer have 784 inputs? Consider the MNIST dataset samples' characteristics.\n",
    "\n",
    "The input layer has 784 units because the MNIST dataset consists of images that are 28 pixels wide and 28 pixels high, and if you multiply them, it results in 784.\n",
    "\n",
    "2. Why does the output layer have 10 outputs?\n",
    "\n",
    "The output layer has 10 outputs because MNIST has 10 output classes. In other words, the goal of MNIST is to evaluate images, so we use these images as input parameters, and the output will be the highest classification from 0 to 9."
   ],
   "metadata": {
    "collapsed": false,
    "pycharm": {
     "name": "#%% md\n"
    }
   }
  },
  {
   "cell_type": "markdown",
   "metadata": {
    "pycharm": {
     "name": "#%% md\n"
    }
   },
   "source": [
    "## Part 2 - CNN implementation"
   ]
  },
  {
   "cell_type": "markdown",
   "source": [
    "Head over to the `cnn.py` file and implement a convolutional architecture (add some convolutional layers and fully connected layers). You can search the LeNet architecture or AlexNet to get some insights and/or inspiration (you can implement a simpler version: with less layers). 2D convolutional layers in PyTorch are created using the `torch.nn.Conv2d` class. Activation and loss functions can be found under `torch.nn.functional` (like ReLU and softmax)."
   ],
   "metadata": {
    "collapsed": false,
    "pycharm": {
     "name": "#%% md\n"
    }
   }
  },
  {
   "cell_type": "code",
   "execution_count": 9,
   "outputs": [],
   "source": [
    "import torch\n",
    "from cnn import CNN"
   ],
   "metadata": {
    "collapsed": false,
    "ExecuteTime": {
     "start_time": "2023-10-10T23:44:28.281022987Z"
    },
    "pycharm": {
     "name": "#%%\n"
    }
   }
  },
  {
   "cell_type": "code",
   "execution_count": 10,
   "outputs": [],
   "source": [
    "model2 = CNN()"
   ],
   "metadata": {
    "collapsed": false,
    "ExecuteTime": {
     "end_time": "2023-10-10T23:44:28.351537423Z",
     "start_time": "2023-10-10T23:44:28.329128600Z"
    },
    "pycharm": {
     "name": "#%%\n"
    }
   }
  },
  {
   "cell_type": "code",
   "execution_count": 11,
   "outputs": [],
   "source": [
    "# batch size\n",
    "MLP_BATCH_SIZE=64\n",
    "\n",
    "# learning rate\n",
    "MLP_LEARNING_RATE=0.001\n",
    "\n",
    "# momentum\n",
    "MLP_MOMENTUM=0.9\n",
    "\n",
    "# training epochs to run\n",
    "MLP_EPOCHS=10"
   ],
   "metadata": {
    "collapsed": false,
    "pycharm": {
     "name": "#%%\n"
    }
   }
  },
  {
   "cell_type": "code",
   "execution_count": 12,
   "outputs": [],
   "source": [
    "# create the training loader\n",
    "mlp_training_loader = DataLoader(training_set, batch_size=MLP_BATCH_SIZE, shuffle=True)\n",
    "\n",
    "# create the validation loader\n",
    "mlp_validation_loader = DataLoader(validation_set, batch_size=MLP_BATCH_SIZE, shuffle=True)"
   ],
   "metadata": {
    "collapsed": false,
    "pycharm": {
     "name": "#%%\n"
    }
   }
  },
  {
   "cell_type": "code",
   "execution_count": 13,
   "outputs": [],
   "source": [
    "mlp_loss_fn = torch.nn.CrossEntropyLoss()\n",
    "\n",
    "mlp_optimizer = torch.optim.SGD(model2.parameters(), lr=MLP_LEARNING_RATE, momentum=MLP_MOMENTUM)"
   ],
   "metadata": {
    "collapsed": false,
    "pycharm": {
     "name": "#%%\n"
    }
   }
  },
  {
   "cell_type": "code",
   "execution_count": 14,
   "outputs": [
    {
     "name": "stdout",
     "output_type": "stream",
     "text": [
      "Epoch 0 (99/938): training_loss = 2.3258548360882383\n",
      "Epoch 0 (199/938): training_loss = 2.312887275638293\n",
      "Epoch 0 (299/938): training_loss = 2.307150836772345\n",
      "Epoch 0 (399/938): training_loss = 2.3033933896468697\n",
      "Epoch 0 (499/938): training_loss = 2.2999693023895693\n",
      "Epoch 0 (599/938): training_loss = 2.296207192744158\n",
      "Epoch 0 (699/938): training_loss = 2.291492679429498\n",
      "Epoch 0 (799/938): training_loss = 2.2839822664726364\n",
      "Epoch 0 (899/938): training_loss = 2.266175559948761\n",
      "Epoch 0 (99/157): validation_loss = 1.8478604555130005\n",
      "Epoch 1 (99/938): training_loss = 1.5189519289768103\n",
      "Epoch 1 (199/938): training_loss = 1.202925450538271\n",
      "Epoch 1 (299/938): training_loss = 1.0167393859812248\n",
      "Epoch 1 (399/938): training_loss = 0.9104022376220626\n",
      "Epoch 1 (499/938): training_loss = 0.8276530685787927\n",
      "Epoch 1 (599/938): training_loss = 0.7650718998928898\n",
      "Epoch 1 (699/938): training_loss = 0.712080136495769\n",
      "Epoch 1 (799/938): training_loss = 0.670242969958445\n",
      "Epoch 1 (899/938): training_loss = 0.6346513828525819\n",
      "Epoch 1 (99/157): validation_loss = 0.30420684814453125\n",
      "Epoch 2 (99/938): training_loss = 0.3291769628271912\n",
      "Epoch 2 (199/938): training_loss = 0.3206752289329941\n",
      "Epoch 2 (299/938): training_loss = 0.3150963953456352\n",
      "Epoch 2 (399/938): training_loss = 0.30383363965534627\n",
      "Epoch 2 (499/938): training_loss = 0.29562818088787113\n",
      "Epoch 2 (599/938): training_loss = 0.28943383160089214\n",
      "Epoch 2 (699/938): training_loss = 0.28464038142446796\n",
      "Epoch 2 (799/938): training_loss = 0.2783747148957658\n",
      "Epoch 2 (899/938): training_loss = 0.27154765097430605\n",
      "Epoch 2 (99/157): validation_loss = 0.1812487691640854\n",
      "Epoch 3 (99/938): training_loss = 0.20811105391593895\n",
      "Epoch 3 (199/938): training_loss = 0.21203317159983381\n",
      "Epoch 3 (299/938): training_loss = 0.20811696583560876\n",
      "Epoch 3 (399/938): training_loss = 0.20304592753898232\n",
      "Epoch 3 (499/938): training_loss = 0.2001628117609717\n",
      "Epoch 3 (599/938): training_loss = 0.1979830393844435\n",
      "Epoch 3 (699/938): training_loss = 0.19607844399301622\n",
      "Epoch 3 (799/938): training_loss = 0.1931915074931889\n",
      "Epoch 3 (899/938): training_loss = 0.18905927003822284\n",
      "Epoch 3 (99/157): validation_loss = 0.14689630270004272\n",
      "Epoch 4 (99/938): training_loss = 0.15567285341746878\n",
      "Epoch 4 (199/938): training_loss = 0.15619077522251473\n",
      "Epoch 4 (299/938): training_loss = 0.15827253332554697\n",
      "Epoch 4 (399/938): training_loss = 0.1566367726072781\n",
      "Epoch 4 (499/938): training_loss = 0.1554979844492877\n",
      "Epoch 4 (599/938): training_loss = 0.15247719883234653\n",
      "Epoch 4 (699/938): training_loss = 0.15144161572773143\n",
      "Epoch 4 (799/938): training_loss = 0.1504733234513388\n",
      "Epoch 4 (899/938): training_loss = 0.1463056624192616\n",
      "Epoch 4 (99/157): validation_loss = 0.11001261323690414\n",
      "Epoch 5 (99/938): training_loss = 0.1263767703050616\n",
      "Epoch 5 (199/938): training_loss = 0.12944461069252322\n",
      "Epoch 5 (299/938): training_loss = 0.12555421265870034\n",
      "Epoch 5 (399/938): training_loss = 0.1253592977230262\n",
      "Epoch 5 (499/938): training_loss = 0.12612091411718865\n",
      "Epoch 5 (599/938): training_loss = 0.12437846200643278\n",
      "Epoch 5 (699/938): training_loss = 0.12323133066531074\n",
      "Epoch 5 (799/938): training_loss = 0.12329664985965168\n",
      "Epoch 5 (899/938): training_loss = 0.12166297258094401\n",
      "Epoch 5 (99/157): validation_loss = 0.09481292963027954\n",
      "Epoch 6 (99/938): training_loss = 0.10713766366619655\n",
      "Epoch 6 (199/938): training_loss = 0.10973293258429472\n",
      "Epoch 6 (299/938): training_loss = 0.11069673026933718\n",
      "Epoch 6 (399/938): training_loss = 0.1077960875482861\n",
      "Epoch 6 (499/938): training_loss = 0.10696382370062606\n",
      "Epoch 6 (599/938): training_loss = 0.10670695739498172\n",
      "Epoch 6 (699/938): training_loss = 0.10733744835025379\n",
      "Epoch 6 (799/938): training_loss = 0.10726179614854284\n",
      "Epoch 6 (899/938): training_loss = 0.10475727803777236\n",
      "Epoch 6 (99/157): validation_loss = 0.09182939678430557\n",
      "Epoch 7 (99/938): training_loss = 0.09585199353633204\n",
      "Epoch 7 (199/938): training_loss = 0.10429378545576304\n",
      "Epoch 7 (299/938): training_loss = 0.10071239789268843\n",
      "Epoch 7 (399/938): training_loss = 0.10044013427799209\n",
      "Epoch 7 (499/938): training_loss = 0.0970965604501252\n",
      "Epoch 7 (599/938): training_loss = 0.09656427523279827\n",
      "Epoch 7 (699/938): training_loss = 0.09484348800939339\n",
      "Epoch 7 (799/938): training_loss = 0.09363070852909988\n",
      "Epoch 7 (899/938): training_loss = 0.09409138831507842\n",
      "Epoch 7 (99/157): validation_loss = 0.07428789883852005\n",
      "Epoch 8 (99/938): training_loss = 0.09435266339116627\n",
      "Epoch 8 (199/938): training_loss = 0.09270379215422737\n",
      "Epoch 8 (299/938): training_loss = 0.08937368656580265\n",
      "Epoch 8 (399/938): training_loss = 0.0875452430428643\n",
      "Epoch 8 (499/938): training_loss = 0.08815433282240896\n",
      "Epoch 8 (599/938): training_loss = 0.08867453556905854\n",
      "Epoch 8 (699/938): training_loss = 0.0881359754290128\n",
      "Epoch 8 (799/938): training_loss = 0.08653349070244461\n",
      "Epoch 8 (899/938): training_loss = 0.0856381291741126\n",
      "Epoch 8 (99/157): validation_loss = 0.07208627462387085\n",
      "Epoch 9 (99/938): training_loss = 0.0835720148276199\n",
      "Epoch 9 (199/938): training_loss = 0.0844045200633194\n",
      "Epoch 9 (299/938): training_loss = 0.08200441148867177\n",
      "Epoch 9 (399/938): training_loss = 0.08133878239446826\n",
      "Epoch 9 (499/938): training_loss = 0.08052427474902066\n",
      "Epoch 9 (599/938): training_loss = 0.07948114763858273\n",
      "Epoch 9 (699/938): training_loss = 0.0797403890556937\n",
      "Epoch 9 (799/938): training_loss = 0.0800388229792898\n",
      "Epoch 9 (899/938): training_loss = 0.07971221003298118\n",
      "Epoch 9 (99/157): validation_loss = 0.07338036596775055\n"
     ]
    },
    {
     "data": {
      "text/plain": "tensor(0.0707)"
     },
     "execution_count": 14,
     "metadata": {},
     "output_type": "execute_result"
    }
   ],
   "source": [
    "import utils\n",
    "\n",
    "# how many batches between logs\n",
    "LOGGING_INTERVAL=100\n",
    "\n",
    "utils.train_model(model2, MLP_EPOCHS, mlp_optimizer, mlp_loss_fn, mlp_training_loader, mlp_validation_loader, LOGGING_INTERVAL)"
   ],
   "metadata": {
    "collapsed": false,
    "pycharm": {
     "name": "#%%\n"
    }
   }
  },
  {
   "cell_type": "markdown",
   "source": [
    "### QUESTIONS\n",
    "\n",
    "1. What are the advantages of using convolutional layers versus fully-connected layers for image processing?\n",
    "\n",
    "\n",
    "Parameter Sharing: Convolutional layers share weights, reducing parameters, while fully connected layers have many parameters, leading to overfitting.\n",
    "\n",
    "Spatial Hierarchy: Convolutional layers capture a hierarchy of features, from low to high-level, preserving spatial structure. Fully connected layers do not preserve spatial structure.\n",
    "\n",
    "Translation Invariance: Convolutional layers are translation-invariant, being robust to position changes. Fully connected layers do not possess this property.\n",
    "\n",
    "Efficiency: Convolutional layers are efficient, reusing weights, while fully connected layers can be computationally expensive, especially with large images.\n",
    "\n",
    "Local Receptive Fields: Convolutional layers use local receptive fields, capturing local details. Fully connected layers are not as effective in this regard.\n",
    "\n",
    "Feature Hierarchies: CNNs learn feature hierarchies, useful for image processing tasks. Fully connected layers do not have this advantage.\n",
    "\n",
    "In conclusion, convolutional layers are suitable for image processing tasks because they leverage the spatial structure of images, reduce the number of parameters, and effectively capture local and hierarchical features. Fully connected layers are often used in conjunction with convolutional layers for end-to-end learning tasks in neural networks."
   ],
   "metadata": {
    "collapsed": false,
    "pycharm": {
     "name": "#%% md\n"
    }
   }
  }
 ],
 "metadata": {
  "kernelspec": {
   "display_name": "Python 3 (ipykernel)",
   "language": "python",
   "name": "python3"
  },
  "language_info": {
   "codemirror_mode": {
    "name": "ipython",
    "version": 3
   },
   "file_extension": ".py",
   "mimetype": "text/x-python",
   "name": "python",
   "nbconvert_exporter": "python",
   "pygments_lexer": "ipython3",
   "version": "3.8.10"
  }
 },
 "nbformat": 4,
 "nbformat_minor": 2
}