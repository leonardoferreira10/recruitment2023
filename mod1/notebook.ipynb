{
 "cells": [
  {
   "cell_type": "markdown",
   "metadata": {
    "pycharm": {
     "name": "#%% md\n"
    }
   },
   "source": [
    "# Module 1 - Implementing and training a neural network"
   ]
  },
  {
   "cell_type": "markdown",
   "metadata": {
    "pycharm": {
     "name": "#%% md\n"
    }
   },
   "source": [
    "## Environment verification\n",
    "Start by confirming you have PyTorch, TorchVision and TensorBoard installed.\n"
   ]
  },
  {
   "cell_type": "code",
   "execution_count": 1,
   "metadata": {
    "ExecuteTime": {
     "end_time": "2023-10-10T23:44:27.402507541Z",
     "start_time": "2023-10-10T23:44:24.157569130Z"
    },
    "pycharm": {
     "name": "#%%\n"
    }
   },
   "outputs": [],
   "source": [
    "import torch\n",
    "import torchvision\n",
    "from torch.utils.data import DataLoader"
   ]
  },
  {
   "cell_type": "markdown",
   "source": [
    "## QUESTIONS - General autonomous driving questions\n",
    "In this part, some general questions about autonomous driving, both general and specific to formula student, are presented. You should read the relevant parts of the rulebook and beginner's guide to answer some of the questions. Feel free to use the internet.\n",
    "\n",
    "1. List some pros and cons of using a stereo camera versus LiDAR versus RADAR for perception. You can research examples from the industry on why do they use specific sensors and not others.\n",
    "\n",
    "\n",
    "Sensors in Autonomous Vehicles: Choosing the Best Approach\n",
    "In autonomous vehicles, the use of various sensor systems is common for environment perception. The most popular sensors include LiDAR, radar, and cameras. These sensor systems work together to provide a comprehensive view of the external world, creating a safety network.\n",
    "\n",
    "LiDAR:\n",
    "\n",
    "Advantages:\n",
    "\n",
    "Distance Accuracy: LiDAR is highly accurate in measuring distances, crucial for collision avoidance.\n",
    "\n",
    "Light Independence: It works well in various lighting conditions, including complete darkness.\n",
    "\n",
    "Fast Scanning: It can quickly create 3D point clouds, enabling real-time perception.\n",
    "\n",
    "Disadvantages:\n",
    "\n",
    "High Cost: LiDAR sensors can be expensive, especially high-quality ones.\n",
    "\n",
    "Susceptible to Obstructions: Opaque objects can block the laser beam, causing blind spots.\n",
    "\n",
    "Less Color Information: It doesn't provide color information, limiting some applications.\n",
    "\n",
    "Cameras:\n",
    "\n",
    "Advantages:\n",
    "\n",
    "Low Cost: Cameras are relatively affordable compared to other options.\n",
    "\n",
    "High Resolution: They can capture detailed images, useful for obstacle detection and navigation.\n",
    "\n",
    "Color and Texture: Cameras capture color and texture information, beneficial for object recognition.\n",
    "\n",
    "Disadvantages:\n",
    "\n",
    "Lighting Condition Sensitivity: Performance can be limited in adverse lighting conditions, such as rain, snow, or intense sunlight.\n",
    "\n",
    "Complex Processing: Stereoscopic image processing can be computationally expensive and requires powerful hardware.\n",
    "\n",
    "Depth Challenge: Estimating depth accurately at long distances can be challenging.\n",
    "\n",
    "RADAR:\n",
    "\n",
    "Advantages:\n",
    "\n",
    "Works in All Weather Conditions: RADAR is robust and performs well in rain, snow, and fog.\n",
    "\n",
    "Long Range: It can detect objects at long distances, ideal for high-speed vehicle detection.\n",
    "\n",
    "Less Affected by Reflective Surfaces: RADAR is less sensitive to reflective surfaces than LiDAR.\n",
    "\n",
    "Disadvantages:\n",
    "\n",
    "Lower Spatial Resolution: Compared to cameras and LiDAR, RADAR has lower spatial resolution and doesn't provide detailed object shape information.\n",
    "\n",
    "Complex Interactions: Interpreting RADAR signals in scenarios with multiple objects can be complicated.\n",
    "\n",
    "Considerable Cost: RADAR sensors can still be expensive.\n",
    "Use Examples:\n",
    "\n",
    "Cameras:\n",
    "\n",
    "Tesla: Tesla uses cameras in advanced driver-assistance systems and its autopilot.\n",
    "\n",
    "Waymo: Waymo, a subsidiary of Alphabet and a leader in autonomous vehicles, combines cameras with other technologies.\n",
    "\n",
    "Mobileye: Intel's Mobileye provides advanced computer vision solutions and cameras for autonomous vehicles and driver-assistance systems.\n",
    "\n",
    "LiDAR:\n",
    "\n",
    "Velodyne Lidar: Velodyne is a leading LiDAR sensor manufacturer, supplying several automotive and autonomous technology companies.\n",
    "\n",
    "Luminar: Luminar focuses on developing LiDAR sensors and provides technology for autonomous vehicles.\n",
    "\n",
    "Aurora: Autonomous vehicle company Aurora uses LiDAR technology in its autonomous vehicles and transport systems.\n",
    "\n",
    "RADAR:\n",
    "\n",
    "Bosch: Bosch is one of the major manufacturers of RADAR sensors for the automotive industry, used in advanced driver-assistance systems.\n",
    "\n",
    "Continental: Continental provides automotive radar systems to various car manufacturers.\n",
    "\n",
    "Uber ATG (Advanced Technologies Group): Uber ATG used RADAR sensors in its autonomous vehicles before selling the autonomous vehicle division.\n",
    "\n",
    "In conclusion, the choice of the ideal sensor depends on the project's specific requirements, the available budget, and operational conditions. A common approach is to combine multiple sensors to create redundancy and maximize environmental perception. This strategy compensates for individual weaknesses and results in safer and more efficient autonomous vehicle systems.\n",
    "\n",
    "Extra Sensors:\n",
    "\n",
    "Ultrasonic:\n",
    "\n",
    "Advantages: Low cost, detection of obstacles at short distances, effective in parking maneuvers.\n",
    "\n",
    "Disadvantages: Limited range, does not provide color information, low resolution.\n",
    "\n",
    "Applications: Parking, detection of obstacles at short distances.\n",
    "\n",
    "Inertial Sensors (IMU):\n",
    "\n",
    "Advantages: Measures acceleration and rotation, useful for detecting changes in the vehicle's position and orientation.\n",
    "\n",
    "Disadvantages: Does not provide information about objects in the environment.\n",
    "\n",
    "Applications: Complement for navigation and control systems.\n",
    "\n",
    "Additional Video: https://www.youtube.com/watch?v=qbxx7dsVLkw&list=PLtuNXpGOPQ_aeLQNxB4rLzfb8uktPABU9&index=3\n",
    "\n",
    "\n",
    "2. Stereo cameras are capable of perceiving both color and depth for each pixel. These cameras can be bought plug-and-play solutions (for example Intel RealSense or StereoLabs ZED 2) or self-made using industrial cameras (for example Basler). Computing depth from multiple cameras requires processing, called \"depth estimation\", which is done onboard on the plug and play solutions. Which solution would you opt for if you had a small team with a short budget? Consider complexity, reliability and cost on your decision.\n",
    "\n",
    "Development of a \"Self-Made\" Stereo Vision Solution:\n",
    "\n",
    "Hardware Component Selection:\n",
    "\n",
    "Camera Selection: We need to choose high-quality stereo cameras that are compatible and have features such as proper synchronization and the ability to capture high-resolution images.\n",
    "\n",
    "Additional Sensor Selection: In addition to cameras, we may need additional sensors such as gyroscopes and accelerometers to improve depth estimation accuracy.\n",
    "\n",
    "Camera Calibration:\n",
    "Camera calibration is a critical process. This involves determining the intrinsic (camera properties) and extrinsic (relative position and orientation relationships) parameters of stereo cameras.\n",
    "Calibrating the lenses and ensuring that the cameras are correctly aligned is essential for obtaining accurate depth information.\n",
    "\n",
    "Image Acquisition:\n",
    "Implementation of a system to capture images from both stereo cameras simultaneously.\n",
    "Precise synchronization of the cameras to ensure that the images are aligned in time.\n",
    "\n",
    "Image Processing for Stereo Matching:\n",
    "Implementation of stereo matching algorithms to find correspondences between points in the left and right camera images.\n",
    "The disparity calculated from these correspondences is used to estimate depth.\n",
    "\n",
    "Depth Calibration:\n",
    "Calibrating the depth output to convert depth information into real-world units.\n",
    "\n",
    "Integration with the Application:\n",
    "Integration of the generated depth information with your application or system to meet project requirements.\n",
    "\n",
    "Optimization and Improvements:\n",
    "Optimization of stereo matching algorithms to improve accuracy and performance.\n",
    "\n",
    "Testing and Validation:\n",
    "Conducting rigorous tests to ensure that the system provides accurate and reliable depth information.\n",
    "\n",
    "Ongoing Maintenance:\n",
    "Addressing potential issues, software updates, and continuous system maintenance.\n",
    "\n",
    "Advantages of Plug-and-Play Solutions (Intel RealSense, StereoLabs Zed2):\n",
    "\n",
    "Ease of Use: These solutions are designed to be user-friendly, allowing you to get started quickly without the need to assemble a complex system.\n",
    "\n",
    "Pre-Calibration: Cameras come pre-calibrated, eliminating the need for manual calibration.\n",
    "\n",
    "Embedded Processing: Plug-and-play solutions include embedded processors that perform real-time depth processing, eliminating the need to implement stereo matching algorithms.\n",
    "\n",
    "APIs and Documentation: Well-documented APIs are provided for integration with your applications.\n",
    "\n",
    "Support and Updates: You receive support from the manufacturing company and regular firmware and software updates.\n",
    "\n",
    "If I had a small team with a limited budget, I would opt for plug-and-play solutions, such as Intel RealSense or StereoLabs Zed2, which already include depth estimation processing and offer better performance while consuming fewer resources. Although they may be slightly more expensive compared to industrial cameras, the reduction in development complexity and workload can offset this additional cost.\n",
    "\n",
    "\n",
    "3. In an autonomous car, monitorization and reaction to critical failures are essential to prevent uncontrolled behavior. According to the rulebook and the beginner's guide, what must happen if the car detects a camera and/or LiDAR malfunction? Select the correct option(s), mentioning the relevant rule(s) you found:\n",
    "    1. Play a sound using the TSAC.\n",
    "    2. Eject the processing computer.\n",
    "    3. Activate the EBS.\n",
    "    4. Send a text message to the officials notifying the issue.\n",
    "    5. Autonomously approach the ASR to perform a safe shutdown.\n",
    "\n",
    "Answer: 3\n",
    "\n",
    "\"Concerning the high-level parts of the AS that rely on a variety of different sensor inputs,the system shall detect,if any of those is malfunctioning. If the proper vehicle operation cannot be ensured (e.g. loss of environmental perception) the system shall react by activating the EBS immediately.\"\n",
    "\n",
    "From: FSG23_AS_Beginners_Guide_v1.1.pdf\n",
    "\n",
    "4. Usually an autonomous driving pipeline is divided into perception, planning and control. Which algorithms are most commonly used by formula student teams on each of these stages? You can research other teams' social media or FSG Academy, for example.\n",
    "\n",
    "Perception: MLP, CNN, Image Processing Algorithms, RANSAC, EKF, AHRS\n",
    "\n",
    "Planning: Trajectory Planning Algorithms, SLAM\n",
    "\n",
    "Control: PID Controllers and Model-Based Control, EKF\n"
   ],
   "metadata": {
    "collapsed": false,
    "pycharm": {
     "name": "#%% md\n"
    }
   }
  },
  {
   "cell_type": "markdown",
   "source": [
    "## Dataset\n",
    "The used dataset is the well-known MNIST, which is composed of images of handwritten digits (0 to 9) with 28 pixels wide and 28 pixels high.\n",
    "\n",
    "The goals of most of the models using this dataset is to classify the digit of the image, which is our case.\n",
    "\n",
    "Download the training and validation dataset:"
   ],
   "metadata": {
    "collapsed": false,
    "pycharm": {
     "name": "#%% md\n"
    }
   }
  },
  {
   "cell_type": "code",
   "execution_count": 2,
   "outputs": [],
   "source": [
    "training_set: torch.utils.data.Dataset = torchvision.datasets.MNIST(\"./data\", train=True, download=True, transform=torchvision.transforms.ToTensor())\n",
    "validation_set: torch.utils.data.Dataset = torchvision.datasets.MNIST(\"./data\", train=False, download=True, transform=torchvision.transforms.ToTensor())"
   ],
   "metadata": {
    "collapsed": false,
    "ExecuteTime": {
     "end_time": "2023-10-10T23:44:27.539221844Z",
     "start_time": "2023-10-10T23:44:27.405299749Z"
    },
    "pycharm": {
     "name": "#%%\n"
    }
   }
  },
  {
   "cell_type": "markdown",
   "metadata": {
    "pycharm": {
     "name": "#%% md\n"
    }
   },
   "source": [
    "## Part 1 - MLP evaluation"
   ]
  },
  {
   "cell_type": "markdown",
   "metadata": {
    "pycharm": {
     "name": "#%% md\n"
    }
   },
   "source": [
    "Import the example MLP:"
   ]
  },
  {
   "cell_type": "code",
   "execution_count": 3,
   "metadata": {
    "ExecuteTime": {
     "end_time": "2023-10-10T23:44:27.553011701Z",
     "start_time": "2023-10-10T23:44:27.541645409Z"
    },
    "pycharm": {
     "name": "#%%\n"
    }
   },
   "outputs": [],
   "source": [
    "from bobnet import BobNet"
   ]
  },
  {
   "cell_type": "markdown",
   "source": [
    "Create an instance of this model:"
   ],
   "metadata": {
    "collapsed": false,
    "pycharm": {
     "name": "#%% md\n"
    }
   }
  },
  {
   "cell_type": "code",
   "execution_count": 4,
   "outputs": [],
   "source": [
    "model1 = BobNet()"
   ],
   "metadata": {
    "collapsed": false,
    "ExecuteTime": {
     "end_time": "2023-10-10T23:44:27.562292617Z",
     "start_time": "2023-10-10T23:44:27.549221563Z"
    },
    "pycharm": {
     "name": "#%%\n"
    }
   }
  },
  {
   "cell_type": "markdown",
   "source": [
    "Define the hyperparameters for this model:"
   ],
   "metadata": {
    "collapsed": false,
    "pycharm": {
     "name": "#%% md\n"
    }
   }
  },
  {
   "cell_type": "code",
   "execution_count": 5,
   "outputs": [],
   "source": [
    "# batch size\n",
    "MLP_BATCH_SIZE=64\n",
    "\n",
    "# learning rate\n",
    "MLP_LEARNING_RATE=0.001\n",
    "\n",
    "# momentum\n",
    "MLP_MOMENTUM=0.9\n",
    "\n",
    "# training epochs to run\n",
    "MLP_EPOCHS=10"
   ],
   "metadata": {
    "collapsed": false,
    "ExecuteTime": {
     "end_time": "2023-10-10T23:44:27.585806274Z",
     "start_time": "2023-10-10T23:44:27.563867031Z"
    },
    "pycharm": {
     "name": "#%%\n"
    }
   }
  },
  {
   "cell_type": "markdown",
   "source": [
    "Create the training and validation dataloaders from the datasets downloaded earlier:"
   ],
   "metadata": {
    "collapsed": false,
    "pycharm": {
     "name": "#%% md\n"
    }
   }
  },
  {
   "cell_type": "code",
   "execution_count": 6,
   "outputs": [],
   "source": [
    "# create the training loader\n",
    "mlp_training_loader = DataLoader(training_set, batch_size=MLP_BATCH_SIZE, shuffle=True) \n",
    "\n",
    "# create the validation loader\n",
    "mlp_validation_loader = DataLoader(validation_set, batch_size=MLP_BATCH_SIZE, shuffle=True)"
   ],
   "metadata": {
    "collapsed": false,
    "ExecuteTime": {
     "end_time": "2023-10-10T23:44:27.611913299Z",
     "start_time": "2023-10-10T23:44:27.609459143Z"
    },
    "pycharm": {
     "name": "#%%\n"
    }
   }
  },
  {
   "cell_type": "markdown",
   "source": [
    "Define the loss function and the optimizer:"
   ],
   "metadata": {
    "collapsed": false,
    "pycharm": {
     "name": "#%% md\n"
    }
   }
  },
  {
   "cell_type": "code",
   "execution_count": 7,
   "outputs": [],
   "source": [
    "mlp_loss_fn = torch.nn.CrossEntropyLoss()\n",
    "\n",
    "mlp_optimizer = torch.optim.SGD(model1.parameters(), lr=MLP_LEARNING_RATE, momentum=MLP_MOMENTUM)"
   ],
   "metadata": {
    "collapsed": false,
    "ExecuteTime": {
     "end_time": "2023-10-10T23:44:27.621901224Z",
     "start_time": "2023-10-10T23:44:27.609959279Z"
    },
    "pycharm": {
     "name": "#%%\n"
    }
   }
  },
  {
   "cell_type": "markdown",
   "source": [
    "Run the training and validation:"
   ],
   "metadata": {
    "collapsed": false,
    "pycharm": {
     "name": "#%% md\n"
    }
   }
  },
  {
   "cell_type": "code",
   "execution_count": 8,
   "outputs": [
    {
     "name": "stdout",
     "output_type": "stream",
     "text": [
      "Epoch 0 (99/938): training_loss = 2.3244037170602816\n",
      "Epoch 0 (199/938): training_loss = 2.311289117563909\n",
      "Epoch 0 (299/938): training_loss = 2.3059036030019806\n",
      "Epoch 0 (399/938): training_loss = 2.3023344843011153\n",
      "Epoch 0 (499/938): training_loss = 2.2993474040098323\n",
      "Epoch 0 (599/938): training_loss = 2.2965415658457253\n",
      "Epoch 0 (699/938): training_loss = 2.2938109979097425\n",
      "Epoch 0 (799/938): training_loss = 2.2907284765279337\n",
      "Epoch 0 (899/938): training_loss = 2.2870842132207683\n",
      "Epoch 0 (99/157): validation_loss = 2.270613670349121\n",
      "Epoch 1 (99/938): training_loss = 2.262201097276476\n",
      "Epoch 1 (199/938): training_loss = 2.246020259569638\n",
      "Epoch 1 (299/938): training_loss = 2.2368425820583484\n",
      "Epoch 1 (399/938): training_loss = 2.228174024357234\n",
      "Epoch 1 (499/938): training_loss = 2.220615878611624\n",
      "Epoch 1 (599/938): training_loss = 2.211533604559795\n",
      "Epoch 1 (699/938): training_loss = 2.2028195039397147\n",
      "Epoch 1 (799/938): training_loss = 2.193259028827443\n",
      "Epoch 1 (899/938): training_loss = 2.182413950910558\n",
      "Epoch 1 (99/157): validation_loss = 2.0846543312072754\n",
      "Epoch 2 (99/938): training_loss = 2.0694705452581847\n",
      "Epoch 2 (199/938): training_loss = 2.0453584415828763\n",
      "Epoch 2 (299/938): training_loss = 2.0288016237941475\n",
      "Epoch 2 (399/938): training_loss = 2.017145998495862\n",
      "Epoch 2 (499/938): training_loss = 2.0043635855695765\n",
      "Epoch 2 (599/938): training_loss = 1.9925934904206775\n",
      "Epoch 2 (699/938): training_loss = 1.9819249915803792\n",
      "Epoch 2 (799/938): training_loss = 1.9720649174665181\n",
      "Epoch 2 (899/938): training_loss = 1.962915690510106\n",
      "Epoch 2 (99/157): validation_loss = 1.8969306945800781\n",
      "Epoch 3 (99/938): training_loss = 1.8931464667272087\n",
      "Epoch 3 (199/938): training_loss = 1.8832758048071934\n",
      "Epoch 3 (299/938): training_loss = 1.8787465609834346\n",
      "Epoch 3 (399/938): training_loss = 1.8758685319943535\n",
      "Epoch 3 (499/938): training_loss = 1.8729479143280305\n",
      "Epoch 3 (599/938): training_loss = 1.8675697321485796\n",
      "Epoch 3 (699/938): training_loss = 1.86309445791149\n",
      "Epoch 3 (799/938): training_loss = 1.858629947908232\n",
      "Epoch 3 (899/938): training_loss = 1.853619580274164\n",
      "Epoch 3 (99/157): validation_loss = 1.8182103633880615\n",
      "Epoch 4 (99/938): training_loss = 1.8133837369957355\n",
      "Epoch 4 (199/938): training_loss = 1.801608798491895\n",
      "Epoch 4 (299/938): training_loss = 1.7925078920696094\n",
      "Epoch 4 (399/938): training_loss = 1.7895550476877313\n",
      "Epoch 4 (499/938): training_loss = 1.7853043430553888\n",
      "Epoch 4 (599/938): training_loss = 1.7819486530077875\n",
      "Epoch 4 (699/938): training_loss = 1.778002934053391\n",
      "Epoch 4 (799/938): training_loss = 1.77390370410733\n",
      "Epoch 4 (899/938): training_loss = 1.769868198438269\n",
      "Epoch 4 (99/157): validation_loss = 1.7483940124511719\n",
      "Epoch 5 (99/938): training_loss = 1.7557256149523186\n",
      "Epoch 5 (199/938): training_loss = 1.7424865757400667\n",
      "Epoch 5 (299/938): training_loss = 1.73572028042082\n",
      "Epoch 5 (399/938): training_loss = 1.7314145203521079\n",
      "Epoch 5 (499/938): training_loss = 1.7292553879216104\n",
      "Epoch 5 (599/938): training_loss = 1.726511615942635\n",
      "Epoch 5 (699/938): training_loss = 1.7248840582728897\n",
      "Epoch 5 (799/938): training_loss = 1.723266913535747\n",
      "Epoch 5 (899/938): training_loss = 1.7215279001282637\n",
      "Epoch 5 (99/157): validation_loss = 1.7171220779418945\n",
      "Epoch 6 (99/938): training_loss = 1.7262067289063425\n",
      "Epoch 6 (199/938): training_loss = 1.7156221033939765\n",
      "Epoch 6 (299/938): training_loss = 1.710842251777649\n",
      "Epoch 6 (399/938): training_loss = 1.707271210531842\n",
      "Epoch 6 (499/938): training_loss = 1.7047006051860496\n",
      "Epoch 6 (599/938): training_loss = 1.7026407268887171\n",
      "Epoch 6 (699/938): training_loss = 1.7006953231595958\n",
      "Epoch 6 (799/938): training_loss = 1.699013201107221\n",
      "Epoch 6 (899/938): training_loss = 1.697366939635908\n",
      "Epoch 6 (99/157): validation_loss = 1.6940722465515137\n",
      "Epoch 7 (99/938): training_loss = 1.6990487780233827\n",
      "Epoch 7 (199/938): training_loss = 1.6912519482511972\n",
      "Epoch 7 (299/938): training_loss = 1.689030992546209\n",
      "Epoch 7 (399/938): training_loss = 1.6902363885912979\n",
      "Epoch 7 (499/938): training_loss = 1.6889183702831994\n",
      "Epoch 7 (599/938): training_loss = 1.6849447317632888\n",
      "Epoch 7 (699/938): training_loss = 1.6844683066969777\n",
      "Epoch 7 (799/938): training_loss = 1.6834343246584094\n",
      "Epoch 7 (899/938): training_loss = 1.6820389963230646\n",
      "Epoch 7 (99/157): validation_loss = 1.6833628416061401\n",
      "Epoch 8 (99/938): training_loss = 1.6926058133443196\n",
      "Epoch 8 (199/938): training_loss = 1.6809507734212443\n",
      "Epoch 8 (299/938): training_loss = 1.6766726735443576\n",
      "Epoch 8 (399/938): training_loss = 1.6740757462972387\n",
      "Epoch 8 (499/938): training_loss = 1.6739830034290382\n",
      "Epoch 8 (599/938): training_loss = 1.67315570977773\n",
      "Epoch 8 (699/938): training_loss = 1.672935944428942\n",
      "Epoch 8 (799/938): training_loss = 1.6724724307078145\n",
      "Epoch 8 (899/938): training_loss = 1.671755623631801\n",
      "Epoch 8 (99/157): validation_loss = 1.6728038787841797\n",
      "Epoch 9 (99/938): training_loss = 1.6829877429538302\n",
      "Epoch 9 (199/938): training_loss = 1.6733000518089562\n",
      "Epoch 9 (299/938): training_loss = 1.6687407673003283\n",
      "Epoch 9 (399/938): training_loss = 1.6667243170558959\n",
      "Epoch 9 (499/938): training_loss = 1.666781381519142\n",
      "Epoch 9 (599/938): training_loss = 1.6658521681675729\n",
      "Epoch 9 (699/938): training_loss = 1.6652256588055852\n",
      "Epoch 9 (799/938): training_loss = 1.6651683432587396\n",
      "Epoch 9 (899/938): training_loss = 1.6645324919725022\n",
      "Epoch 9 (99/157): validation_loss = 1.6705242395401\n"
     ]
    },
    {
     "data": {
      "text/plain": "tensor(1.6519)"
     },
     "execution_count": 8,
     "metadata": {},
     "output_type": "execute_result"
    }
   ],
   "source": [
    "import utils\n",
    "\n",
    "# how many batches between logs\n",
    "LOGGING_INTERVAL=100\n",
    "\n",
    "utils.train_model(model1, MLP_EPOCHS, mlp_optimizer, mlp_loss_fn, mlp_training_loader, mlp_validation_loader, LOGGING_INTERVAL)"
   ],
   "metadata": {
    "collapsed": false,
    "ExecuteTime": {
     "end_time": "2023-10-10T23:44:28.278065836Z",
     "start_time": "2023-10-10T23:44:27.610358765Z"
    },
    "pycharm": {
     "name": "#%%\n"
    }
   }
  },
  {
   "cell_type": "markdown",
   "source": [
    "### QUESTIONS\n",
    "Explore the architecture on the script `mod1/bobnet.py`.\n",
    "1. Why does the input layer have 784 inputs? Consider the MNIST dataset samples' characteristics.\n",
    "\n",
    "The input layer has 784 units because the MNIST dataset consists of images that are 28 pixels wide and 28 pixels high, and if you multiply them, it results in 784.\n",
    "\n",
    "2. Why does the output layer have 10 outputs?\n",
    "\n",
    "The output layer has 10 outputs because MNIST has 10 output classes. In other words, the goal of MNIST is to evaluate images, so we use these images as input parameters, and the output will be the highest classification from 0 to 9."
   ],
   "metadata": {
    "collapsed": false,
    "pycharm": {
     "name": "#%% md\n"
    }
   }
  },
  {
   "cell_type": "markdown",
   "metadata": {
    "pycharm": {
     "name": "#%% md\n"
    }
   },
   "source": [
    "## Part 2 - CNN implementation"
   ]
  },
  {
   "cell_type": "markdown",
   "source": [
    "Head over to the `cnn.py` file and implement a convolutional architecture (add some convolutional layers and fully connected layers). You can search the LeNet architecture or AlexNet to get some insights and/or inspiration (you can implement a simpler version: with less layers). 2D convolutional layers in PyTorch are created using the `torch.nn.Conv2d` class. Activation and loss functions can be found under `torch.nn.functional` (like ReLU and softmax)."
   ],
   "metadata": {
    "collapsed": false,
    "pycharm": {
     "name": "#%% md\n"
    }
   }
  },
  {
   "cell_type": "code",
   "execution_count": 9,
   "outputs": [],
   "source": [
    "import torch\n",
    "from cnn import CNN"
   ],
   "metadata": {
    "collapsed": false,
    "ExecuteTime": {
     "start_time": "2023-10-10T23:44:28.281022987Z"
    },
    "pycharm": {
     "name": "#%%\n"
    }
   }
  },
  {
   "cell_type": "code",
   "execution_count": 10,
   "outputs": [],
   "source": [
    "model2 = CNN()"
   ],
   "metadata": {
    "collapsed": false,
    "ExecuteTime": {
     "end_time": "2023-10-10T23:44:28.351537423Z",
     "start_time": "2023-10-10T23:44:28.329128600Z"
    },
    "pycharm": {
     "name": "#%%\n"
    }
   }
  },
  {
   "cell_type": "code",
   "execution_count": 11,
   "outputs": [],
   "source": [
    "# batch size\n",
    "MLP_BATCH_SIZE=64\n",
    "\n",
    "# learning rate\n",
    "MLP_LEARNING_RATE=0.001\n",
    "\n",
    "# momentum\n",
    "MLP_MOMENTUM=0.9\n",
    "\n",
    "# training epochs to run\n",
    "MLP_EPOCHS=10"
   ],
   "metadata": {
    "collapsed": false,
    "pycharm": {
     "name": "#%%\n"
    }
   }
  },
  {
   "cell_type": "code",
   "execution_count": 12,
   "outputs": [],
   "source": [
    "# create the training loader\n",
    "mlp_training_loader = DataLoader(training_set, batch_size=MLP_BATCH_SIZE, shuffle=True)\n",
    "\n",
    "# create the validation loader\n",
    "mlp_validation_loader = DataLoader(validation_set, batch_size=MLP_BATCH_SIZE, shuffle=True)"
   ],
   "metadata": {
    "collapsed": false,
    "pycharm": {
     "name": "#%%\n"
    }
   }
  },
  {
   "cell_type": "code",
   "execution_count": 13,
   "outputs": [],
   "source": [
    "mlp_loss_fn = torch.nn.CrossEntropyLoss()\n",
    "\n",
    "mlp_optimizer = torch.optim.SGD(model2.parameters(), lr=MLP_LEARNING_RATE, momentum=MLP_MOMENTUM)"
   ],
   "metadata": {
    "collapsed": false,
    "pycharm": {
     "name": "#%%\n"
    }
   }
  },
  {
   "cell_type": "code",
   "execution_count": null,
   "outputs": [
    {
     "name": "stdout",
     "output_type": "stream",
     "text": [
      "Epoch 0 (99/938): training_loss = 2.3258340117907284\n",
      "Epoch 0 (199/938): training_loss = 2.314182950024629\n",
      "Epoch 0 (299/938): training_loss = 2.3102758169971582\n",
      "Epoch 0 (399/938): training_loss = 2.3083539289938177\n",
      "Epoch 0 (499/938): training_loss = 2.3071903250738233\n",
      "Epoch 0 (599/938): training_loss = 2.306415553881051\n",
      "Epoch 0 (699/938): training_loss = 2.3058560382313655\n",
      "Epoch 0 (799/938): training_loss = 2.305422584166067\n",
      "Epoch 0 (899/938): training_loss = 2.3050860144007324\n",
      "Epoch 0 (99/157): validation_loss = 2.3256568908691406\n",
      "Epoch 1 (99/938): training_loss = 2.325635221269396\n",
      "Epoch 1 (199/938): training_loss = 2.313941799815576\n",
      "Epoch 1 (299/938): training_loss = 2.310120033181232\n",
      "Epoch 1 (399/938): training_loss = 2.308163289139444\n",
      "Epoch 1 (499/938): training_loss = 2.3069919522157414\n",
      "Epoch 1 (599/938): training_loss = 2.306235903292546\n",
      "Epoch 1 (699/938): training_loss = 2.3056740382198613\n",
      "Epoch 1 (799/938): training_loss = 2.3052605221954843\n",
      "Epoch 1 (899/938): training_loss = 2.3049328915932286\n",
      "Epoch 1 (99/157): validation_loss = 2.325495958328247\n",
      "Epoch 2 (99/938): training_loss = 2.325603126275419\n",
      "Epoch 2 (199/938): training_loss = 2.3138603037925223\n",
      "Epoch 2 (299/938): training_loss = 2.3099810192018846\n",
      "Epoch 2 (399/938): training_loss = 2.3080088966771175\n",
      "Epoch 2 (499/938): training_loss = 2.3068606595477026\n",
      "Epoch 2 (599/938): training_loss = 2.306078460658333\n",
      "Epoch 2 (699/938): training_loss = 2.305528623010638\n",
      "Epoch 2 (799/938): training_loss = 2.3051143790664006\n",
      "Epoch 2 (899/938): training_loss = 2.3047896529463956\n",
      "Epoch 2 (99/157): validation_loss = 2.3253891468048096\n",
      "Epoch 3 (99/938): training_loss = 2.3253175224920715\n",
      "Epoch 3 (199/938): training_loss = 2.313663517410432\n",
      "Epoch 3 (299/938): training_loss = 2.309794307153759\n",
      "Epoch 3 (399/938): training_loss = 2.307872660476761\n",
      "Epoch 3 (499/938): training_loss = 2.306716431596714\n",
      "Epoch 3 (599/938): training_loss = 2.3059206438781024\n",
      "Epoch 3 (699/938): training_loss = 2.305401099427405\n",
      "Epoch 3 (799/938): training_loss = 2.304981555747747\n",
      "Epoch 3 (899/938): training_loss = 2.3046443523368794\n",
      "Epoch 3 (99/157): validation_loss = 2.3252623081207275\n",
      "Epoch 4 (99/938): training_loss = 2.325206508540144\n",
      "Epoch 4 (199/938): training_loss = 2.3135698536532607\n",
      "Epoch 4 (299/938): training_loss = 2.3096522017067493\n",
      "Epoch 4 (399/938): training_loss = 2.307737360622052\n",
      "Epoch 4 (499/938): training_loss = 2.306547066491687\n",
      "Epoch 4 (599/938): training_loss = 2.305775454127928\n",
      "Epoch 4 (699/938): training_loss = 2.3052219993225664\n",
      "Epoch 4 (799/938): training_loss = 2.304803673108021\n",
      "Epoch 4 (899/938): training_loss = 2.304450948988901\n",
      "Epoch 4 (99/157): validation_loss = 2.3249599933624268\n",
      "Epoch 5 (99/938): training_loss = 2.3251050265148434\n",
      "Epoch 5 (199/938): training_loss = 2.3133558388331426\n",
      "Epoch 5 (299/938): training_loss = 2.3094202523247453\n",
      "Epoch 5 (399/938): training_loss = 2.3075000863326225\n",
      "Epoch 5 (499/938): training_loss = 2.3063340258741665\n",
      "Epoch 5 (599/938): training_loss = 2.3055388039857996\n",
      "Epoch 5 (699/938): training_loss = 2.3049896257970808\n",
      "Epoch 5 (799/938): training_loss = 2.3045583732137094\n",
      "Epoch 5 (899/938): training_loss = 2.304212970648777\n",
      "Epoch 5 (99/157): validation_loss = 2.324657678604126\n",
      "Epoch 6 (99/938): training_loss = 2.3246866837896483\n",
      "Epoch 6 (199/938): training_loss = 2.3129987285364813\n",
      "Epoch 6 (299/938): training_loss = 2.3091341731540336\n",
      "Epoch 6 (399/938): training_loss = 2.3071763802291754\n",
      "Epoch 6 (499/938): training_loss = 2.3060324010485878\n",
      "Epoch 6 (599/938): training_loss = 2.305234980702599\n",
      "Epoch 6 (699/938): training_loss = 2.304640868532129\n",
      "Epoch 6 (799/938): training_loss = 2.304199239339339\n",
      "Epoch 6 (899/938): training_loss = 2.303870281202509\n"
     ]
    }
   ],
   "source": [
    "import utils\n",
    "\n",
    "# how many batches between logs\n",
    "LOGGING_INTERVAL=100\n",
    "\n",
    "utils.train_model(model2, MLP_EPOCHS, mlp_optimizer, mlp_loss_fn, mlp_training_loader, mlp_validation_loader, LOGGING_INTERVAL)"
   ],
   "metadata": {
    "collapsed": false,
    "pycharm": {
     "name": "#%%\n",
     "is_executing": true
    }
   }
  },
  {
   "cell_type": "markdown",
   "source": [
    "### QUESTIONS\n",
    "\n",
    "1. What are the advantages of using convolutional layers versus fully-connected layers for image processing?\n",
    "\n",
    "\n",
    "Parameter Sharing: Convolutional layers share weights, reducing parameters, while fully connected layers have many parameters, leading to overfitting.\n",
    "\n",
    "Spatial Hierarchy: Convolutional layers capture a hierarchy of features, from low to high-level, preserving spatial structure. Fully connected layers do not preserve spatial structure.\n",
    "\n",
    "Translation Invariance: Convolutional layers are translation-invariant, being robust to position changes. Fully connected layers do not possess this property.\n",
    "\n",
    "Efficiency: Convolutional layers are efficient, reusing weights, while fully connected layers can be computationally expensive, especially with large images.\n",
    "\n",
    "Local Receptive Fields: Convolutional layers use local receptive fields, capturing local details. Fully connected layers are not as effective in this regard.\n",
    "\n",
    "Feature Hierarchies: CNNs learn feature hierarchies, useful for image processing tasks. Fully connected layers do not have this advantage.\n",
    "\n",
    "In conclusion, convolutional layers are suitable for image processing tasks because they leverage the spatial structure of images, reduce the number of parameters, and effectively capture local and hierarchical features. Fully connected layers are often used in conjunction with convolutional layers for end-to-end learning tasks in neural networks."
   ],
   "metadata": {
    "collapsed": false,
    "pycharm": {
     "name": "#%% md\n"
    }
   }
  }
 ],
 "metadata": {
  "kernelspec": {
   "display_name": "Python 3 (ipykernel)",
   "language": "python",
   "name": "python3"
  },
  "language_info": {
   "codemirror_mode": {
    "name": "ipython",
    "version": 3
   },
   "file_extension": ".py",
   "mimetype": "text/x-python",
   "name": "python",
   "nbconvert_exporter": "python",
   "pygments_lexer": "ipython3",
   "version": "3.8.10"
  }
 },
 "nbformat": 4,
 "nbformat_minor": 2
}